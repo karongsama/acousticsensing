{
 "cells": [
  {
   "cell_type": "markdown",
   "metadata": {},
   "source": [
    "经过测试，无需添加掩码可直接进行渲染，因为有效数据之外皆是0，即不渲染数据，故无需通过mask去除无效数据\n",
    "```"
   ]
  },
  {
   "cell_type": "code",
   "execution_count": 7,
   "metadata": {},
   "outputs": [],
   "source": [
    "import os\n",
    "import numpy as np\n",
    "import cv2\n",
    "import matplotlib.pyplot as plt\n",
    "from skimage import io\n",
    "import vtk"
   ]
  },
  {
   "cell_type": "code",
   "execution_count": 8,
   "metadata": {},
   "outputs": [
    {
     "name": "stdout",
     "output_type": "stream",
     "text": [
      "(375, 1400, 2000)\n",
      "(2000, 1400, 375)\n",
      "(375, 1400, 2000)\n"
     ]
    }
   ],
   "source": [
    "# first we read the pic\n",
    "path=r\"D:\\coding\\AcousticSensing\\Data\\NewCylinder\\CTpic\\ctpicture_up\"\n",
    "vol=io.imread(os.path.join(path, '*.tif'))\n",
    "# vol = io.imread(\"D://coding//AcousticSensing//Data//NewCylinder//CTpic//ctpicture_up.tif\")\n",
    "print(vol.shape)\n",
    "volume=vol.T\n",
    "print(volume.shape)\n",
    "volume=volume.T\n",
    "print(volume.shape)\n"
   ]
  },
  {
   "cell_type": "code",
   "execution_count": null,
   "metadata": {},
   "outputs": [],
   "source": [
    "# 创建一个VTK渲染器\n",
    "renderer = vtk.vtkRenderer()\n",
    "\n",
    "# 创建一个VTK渲染窗口\n",
    "render_window = vtk.vtkRenderWindow()\n",
    "render_window.AddRenderer(renderer)\n",
    "\n",
    "# 创建一个VTK交互器\n",
    "render_interactor = vtk.vtkRenderWindowInteractor()\n",
    "render_interactor.SetRenderWindow(render_window)\n",
    "\n",
    "# 创建一个VTK图像数据对象并设置数据\n",
    "vtk_image_data = vtk.vtkImageData()\n",
    "vtk_image_data.GetPointData().SetScalars(vtk.vtkFloatArray())\n",
    "vtk_image_data.SetDimensions(volume.shape[::-1])  # 注意维度顺序\n",
    "\n",
    "# 创建一个VTK体积渲染器、体积映射器和属性\n",
    "volume_mapper = vtk.vtkSmartVolumeMapper()\n",
    "volume_mapper.SetInputData(vtk_image_data)\n",
    "\n",
    "volume_property = vtk.vtkVolumeProperty()\n",
    "volume_property.SetScalarOpacityUnitDistance(1.0)\n",
    "volume_property.ShadeOff()\n",
    "volume_property.SetInterpolationTypeToLinear()\n",
    "\n",
    "volume = vtk.vtkVolume()\n",
    "volume.SetMapper(volume_mapper)\n",
    "volume.SetProperty(volume_property)\n",
    "\n",
    "# 将体积添加到渲染器\n",
    "renderer.AddVolume(volume)\n",
    "\n",
    "# 设置渲染器视角\n",
    "renderer.ResetCamera()\n",
    "\n",
    "# 启动渲染循环\n",
    "render_window.Render()\n",
    "render_interactor.Start()"
   ]
  }
 ],
 "metadata": {
  "kernelspec": {
   "display_name": "ctpic",
   "language": "python",
   "name": "python3"
  },
  "language_info": {
   "codemirror_mode": {
    "name": "ipython",
    "version": 3
   },
   "file_extension": ".py",
   "mimetype": "text/x-python",
   "name": "python",
   "nbconvert_exporter": "python",
   "pygments_lexer": "ipython3",
   "version": "3.10.12"
  },
  "orig_nbformat": 4
 },
 "nbformat": 4,
 "nbformat_minor": 2
}
